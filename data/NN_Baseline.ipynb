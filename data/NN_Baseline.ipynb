{
 "cells": [
  {
   "cell_type": "code",
   "execution_count": 99,
   "metadata": {},
   "outputs": [
    {
     "name": "stdout",
     "output_type": "stream",
     "text": [
      "The autoreload extension is already loaded. To reload it, use:\n",
      "  %reload_ext autoreload\n"
     ]
    }
   ],
   "source": [
    "import numpy as np\n",
    "from FFNN_keras import *\n",
    "%load_ext autoreload\n",
    "%autoreload 2"
   ]
  },
  {
   "cell_type": "code",
   "execution_count": 100,
   "metadata": {
    "collapsed": true
   },
   "outputs": [],
   "source": [
    "#Fetch and Proprocess Data\n",
    "train, test = fetch_data()"
   ]
  },
  {
   "cell_type": "code",
   "execution_count": 101,
   "metadata": {
    "collapsed": true
   },
   "outputs": [],
   "source": [
    "X, y = execute_input(train)"
   ]
  },
  {
   "cell_type": "code",
   "execution_count": 102,
   "metadata": {},
   "outputs": [
    {
     "name": "stdout",
     "output_type": "stream",
     "text": [
      "(1000, 100) (1000, 2) 0\n"
     ]
    }
   ],
   "source": [
    "print X.shape, y.shape, miss"
   ]
  },
  {
   "cell_type": "code",
   "execution_count": 103,
   "metadata": {},
   "outputs": [
    {
     "ename": "NameError",
     "evalue": "global name 'nn' is not defined",
     "output_type": "error",
     "traceback": [
      "\u001b[0;31m--------------------------------------------------------------------------\u001b[0m",
      "\u001b[0;31mNameError\u001b[0m                                Traceback (most recent call last)",
      "\u001b[0;32m<ipython-input-103-8585451f78de>\u001b[0m in \u001b[0;36m<module>\u001b[0;34m()\u001b[0m\n\u001b[0;32m----> 1\u001b[0;31m \u001b[0mtrain_NN\u001b[0m\u001b[0;34m(\u001b[0m\u001b[0mX\u001b[0m\u001b[0;34m,\u001b[0m \u001b[0my\u001b[0m\u001b[0;34m)\u001b[0m\u001b[0;34m\u001b[0m\u001b[0m\n\u001b[0m",
      "\u001b[0;32m/home/mikki/NLP/proj_2/torqa/data/FFNN_keras.py\u001b[0m in \u001b[0;36mtrain_NN\u001b[0;34m(X, y)\u001b[0m\n\u001b[1;32m    109\u001b[0m         \u001b[0mval_id\u001b[0m \u001b[0;34m=\u001b[0m \u001b[0mint\u001b[0m\u001b[0;34m(\u001b[0m\u001b[0mN\u001b[0m\u001b[0;34m*\u001b[0m\u001b[0;36m0.8\u001b[0m\u001b[0;34m)\u001b[0m\u001b[0;34m\u001b[0m\u001b[0m\n\u001b[1;32m    110\u001b[0m \u001b[0;34m\u001b[0m\u001b[0m\n\u001b[0;32m--> 111\u001b[0;31m         \u001b[0mnn\u001b[0m\u001b[0;34m(\u001b[0m\u001b[0mX\u001b[0m\u001b[0;34m[\u001b[0m\u001b[0;34m:\u001b[0m\u001b[0mval_id\u001b[0m\u001b[0;34m,\u001b[0m \u001b[0;34m:\u001b[0m\u001b[0;34m]\u001b[0m\u001b[0;34m,\u001b[0m \u001b[0my\u001b[0m\u001b[0;34m[\u001b[0m\u001b[0;34m:\u001b[0m\u001b[0mval_id\u001b[0m\u001b[0;34m,\u001b[0m \u001b[0;34m:\u001b[0m\u001b[0;34m]\u001b[0m\u001b[0;34m,\u001b[0m \u001b[0mX\u001b[0m\u001b[0;34m[\u001b[0m\u001b[0mval_id\u001b[0m\u001b[0;34m:\u001b[0m\u001b[0;34m,\u001b[0m \u001b[0;34m:\u001b[0m\u001b[0;34m]\u001b[0m\u001b[0;34m,\u001b[0m \u001b[0my\u001b[0m\u001b[0;34m[\u001b[0m\u001b[0mval_id\u001b[0m\u001b[0;34m:\u001b[0m\u001b[0;34m,\u001b[0m\u001b[0;34m:\u001b[0m\u001b[0;34m]\u001b[0m\u001b[0;34m)\u001b[0m\u001b[0;34m\u001b[0m\u001b[0m\n\u001b[0m\u001b[1;32m    112\u001b[0m             \u001b[0;31m# print get_weights()\u001b[0m\u001b[0;34m\u001b[0m\u001b[0;34m\u001b[0m\u001b[0m\n\u001b[1;32m    113\u001b[0m \u001b[0;34m\u001b[0m\u001b[0m\n",
      "\u001b[0;31mNameError\u001b[0m: global name 'nn' is not defined"
     ]
    }
   ],
   "source": [
    "train_NN(X, y)"
   ]
  },
  {
   "cell_type": "code",
   "execution_count": 41,
   "metadata": {
    "collapsed": true
   },
   "outputs": [],
   "source": [
    "X_test, y_test = execute_input(test)"
   ]
  },
  {
   "cell_type": "code",
   "execution_count": 52,
   "metadata": {},
   "outputs": [
    {
     "name": "stdout",
     "output_type": "stream",
     "text": [
      "[[  2.48382479e-01   7.51617551e-01]\n",
      " [  3.73195522e-02   9.62680459e-01]\n",
      " [  4.61341999e-03   9.95386600e-01]\n",
      " [  7.69302889e-04   9.99230683e-01]\n",
      " [  2.11430874e-04   9.99788582e-01]\n",
      " [  2.90593237e-01   7.09406793e-01]\n",
      " [  8.54989961e-02   9.14501011e-01]\n",
      " [  2.08198521e-02   9.79180157e-01]\n",
      " [  3.32490471e-03   9.96675074e-01]\n",
      " [  7.14658061e-04   9.99285340e-01]\n",
      " [  1.92402661e-01   8.07597339e-01]\n",
      " [  5.23371100e-02   9.47662890e-01]\n",
      " [  8.01092479e-03   9.91989076e-01]\n",
      " [  2.41760421e-03   9.97582376e-01]\n",
      " [  3.98181204e-04   9.99601841e-01]\n",
      " [  2.60462373e-01   7.39537597e-01]\n",
      " [  5.66872954e-02   9.43312705e-01]\n",
      " [  1.41593013e-02   9.85840678e-01]\n",
      " [  3.05712782e-03   9.96942878e-01]\n",
      " [  6.38466852e-04   9.99361515e-01]\n",
      " [  1.20998323e-01   8.79001677e-01]\n",
      " [  2.20143218e-02   9.77985680e-01]\n",
      " [  6.86749723e-03   9.93132532e-01]\n",
      " [  4.85149125e-04   9.99514878e-01]\n",
      " [  1.22595884e-04   9.99877393e-01]\n",
      " [  2.30565384e-01   7.69434631e-01]\n",
      " [  8.16390142e-02   9.18361008e-01]\n",
      " [  1.76801793e-02   9.82319832e-01]\n",
      " [  2.27643689e-03   9.97723579e-01]\n",
      " [  4.09088098e-04   9.99590933e-01]]\n"
     ]
    },
    {
     "name": "stderr",
     "output_type": "stream",
     "text": [
      "FFNN.py:49: SyntaxWarning: name '_W2VEC' is used prior to global declaration\n",
      "  global _W2VEC\n"
     ]
    },
    {
     "data": {
      "text/plain": [
       "0.503"
      ]
     },
     "execution_count": 52,
     "metadata": {},
     "output_type": "execute_result"
    }
   ],
   "source": [
    "#w1 = get_weights()\n",
    "#print w1\n",
    "\n",
    "y_test_no = y_test[:,1]  #'NO' values\n",
    "y_pred_no, probs = predict(X)\n",
    "print probs[:30]\n",
    "np.mean(y_test_no == y_pred_no)"
   ]
  },
  {
   "cell_type": "code",
   "execution_count": null,
   "metadata": {
    "collapsed": true
   },
   "outputs": [],
   "source": []
  }
 ],
 "metadata": {
  "kernelspec": {
   "display_name": "Python 2",
   "language": "python",
   "name": "python2"
  },
  "language_info": {
   "codemirror_mode": {
    "name": "ipython",
    "version": 2
   },
   "file_extension": ".py",
   "mimetype": "text/x-python",
   "name": "python",
   "nbconvert_exporter": "python",
   "pygments_lexer": "ipython2",
   "version": "2.7.12"
  }
 },
 "nbformat": 4,
 "nbformat_minor": 2
}

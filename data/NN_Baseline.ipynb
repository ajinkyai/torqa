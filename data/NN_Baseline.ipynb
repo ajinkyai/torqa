{
 "cells": [
  {
   "cell_type": "code",
   "execution_count": 99,
   "metadata": {},
   "outputs": [
    {
     "name": "stdout",
     "output_type": "stream",
     "text": [
      "The autoreload extension is already loaded. To reload it, use:\n",
      "  %reload_ext autoreload\n"
     ]
    }
   ],
   "source": [
    "import numpy as np\n",
    "from FFNN import *\n",
    "%load_ext autoreload\n",
    "%autoreload 2"
   ]
  },
  {
   "cell_type": "code",
   "execution_count": 100,
   "metadata": {},
   "outputs": [],
   "source": [
    "#Fetch and Proprocess Data\n",
    "train, test = fetch_data()"
   ]
  },
  {
   "cell_type": "code",
   "execution_count": 101,
   "metadata": {},
   "outputs": [],
   "source": [
    "X, y = execute_input(train)"
   ]
  },
  {
   "cell_type": "code",
   "execution_count": 102,
   "metadata": {},
   "outputs": [
    {
     "name": "stdout",
     "output_type": "stream",
     "text": [
      "(1000, 100) (1000, 2)\n"
     ]
    }
   ],
   "source": [
    "print X.shape, y.shape"
   ]
  },
  {
   "cell_type": "code",
   "execution_count": 106,
   "metadata": {},
   "outputs": [
    {
     "name": "stderr",
     "output_type": "stream",
     "text": [
      "FFNN.py:49: SyntaxWarning: name '_W2VEC' is used prior to global declaration\n",
      "  global _W2VEC\n"
     ]
    },
    {
     "name": "stdout",
     "output_type": "stream",
     "text": [
      "Epoch: 0 :  0.00531836040318\n",
      "Epoch: 1 :  0.00572678912431\n",
      "Epoch: 2 :  0.005720554851\n",
      "Epoch: 3 :  0.00657294550911\n",
      "Epoch: 4 :  0.0046809236519\n",
      "Epoch: 5 :  0.00555759714916\n",
      "Epoch: 6 :  0.0213799253106\n",
      "Epoch: 7 :  0.00879315007478\n",
      "Epoch: 8 :  0.0287833828479\n",
      "Epoch: 9 :  0.0141623979434\n",
      "Epoch: 10 :  0.031143322587\n",
      "Epoch: 11 :  0.053485814482\n",
      "Epoch: 12 :  0.0290851574391\n",
      "Epoch: 13 :  0.0215196348727\n",
      "Epoch: 14 :  0.0132678877562\n",
      "Epoch: 15 :  0.0844155848026\n",
      "Epoch: 16 :  0.0504008680582\n",
      "Epoch: 17 :  0.0171209741384\n",
      "Epoch: 18 :  0.052049446851\n",
      "Epoch: 19 :  0.0641562789679\n"
     ]
    }
   ],
   "source": [
    "train_NN(X, y)"
   ]
  },
  {
   "cell_type": "code",
   "execution_count": 107,
   "metadata": {},
   "outputs": [],
   "source": [
    "X_test, y_test = execute_input(test)"
   ]
  },
  {
   "cell_type": "code",
   "execution_count": 108,
   "metadata": {},
   "outputs": [
    {
     "data": {
      "text/plain": [
       "0.503"
      ]
     },
     "execution_count": 108,
     "metadata": {},
     "output_type": "execute_result"
    }
   ],
   "source": [
    "y_test_no = y_test[:,1]  #'NO' values\n",
    "y_pred_no = predict(X_test)\n",
    "np.mean(y_test_no == y_pred_no)"
   ]
  }
 ],
 "metadata": {
  "kernelspec": {
   "display_name": "Python 2",
   "language": "python",
   "name": "python2"
  },
  "language_info": {
   "codemirror_mode": {
    "name": "ipython",
    "version": 2
   },
   "file_extension": ".py",
   "mimetype": "text/x-python",
   "name": "python",
   "nbconvert_exporter": "python",
   "pygments_lexer": "ipython2",
   "version": "2.7.12"
  }
 },
 "nbformat": 4,
 "nbformat_minor": 2
}

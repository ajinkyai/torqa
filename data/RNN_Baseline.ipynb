{
 "cells": [
  {
   "cell_type": "code",
   "execution_count": 124,
   "metadata": {},
   "outputs": [
    {
     "name": "stdout",
     "output_type": "stream",
     "text": [
      "The autoreload extension is already loaded. To reload it, use:\n",
      "  %reload_ext autoreload\n"
     ]
    }
   ],
   "source": [
    "from __future__ import print_function\n",
    "import numpy as np\n",
    "from rnn_utils import *   #Keras imports done here\n",
    "\n",
    "import csv\n",
    "\n",
    "%load_ext autoreload\n",
    "%autoreload 2"
   ]
  },
  {
   "cell_type": "code",
   "execution_count": 16,
   "metadata": {
    "collapsed": true
   },
   "outputs": [],
   "source": [
    "#Parse get the data in (story, q, a) format. The story is flattened.\n",
    "train, test = get_data()\n"
   ]
  },
  {
   "cell_type": "code",
   "execution_count": 4,
   "metadata": {
    "collapsed": true
   },
   "outputs": [],
   "source": [
    "#Build the vocabulary\n",
    "vocab = set()\n",
    "for story, q, answer in train + test:  #+ => extend\n",
    "    vocab |= set(story + q + [answer])\n",
    "vocab = sorted(vocab)\n",
    "# Reserve 0 for masking via pad_sequences - Keras requirement\n",
    "vocab_size = len(vocab) + 1"
   ]
  },
  {
   "cell_type": "code",
   "execution_count": 10,
   "metadata": {},
   "outputs": [
    {
     "name": "stdout",
     "output_type": "stream",
     "text": [
      "Max words in a question, story:: 156 , 6\n"
     ]
    }
   ],
   "source": [
    "#For Lookup in Word Embedding Matrix\n",
    "word_idx = dict((c, i + 1) for i, c in enumerate(vocab))\n",
    "#Needed for padding the story and query to max lengths and vectorizing them\n",
    "story_maxlen = max(map(len, (x for x, _, _ in train + test)))  #max words in a story\n",
    "query_maxlen = max(map(len, (x for _, x, _ in train + test)))\n",
    "print(\"Max words in a question, story::\", story_maxlen,\",\", query_maxlen)"
   ]
  },
  {
   "cell_type": "code",
   "execution_count": 12,
   "metadata": {},
   "outputs": [
    {
     "name": "stdout",
     "output_type": "stream",
     "text": [
      "x.shape = (1000, 156)\n",
      "xq.shape = (1000, 6)\n",
      "y.shape = (1000, 38)\n"
     ]
    }
   ],
   "source": [
    "#x is list of supportstory sentences for each example: A sentecnce here is list of word indexes\n",
    "#y is a on-hot representation over entire vocab space. bAbI vocab space is quite less:37\n",
    "x, xq, y = vectorize_stories(train, word_idx, story_maxlen, query_maxlen)\n",
    "tx, txq, ty = vectorize_stories(test, word_idx, story_maxlen, query_maxlen)\n",
    "\n",
    "print('x.shape = {}'.format(x.shape))\n",
    "print('xq.shape = {}'.format(xq.shape))\n",
    "print('y.shape = {}'.format(y.shape))"
   ]
  },
  {
   "cell_type": "code",
   "execution_count": 72,
   "metadata": {
    "collapsed": true
   },
   "outputs": [],
   "source": [
    "RNN = recurrent.LSTM\n",
    "EMBED_HIDDEN_SIZE = 50\n",
    "SENT_HIDDEN_SIZE = 100\n",
    "QUERY_HIDDEN_SIZE = 100\n",
    "BATCH_SIZE = 32\n",
    "EPOCHS = 40"
   ]
  },
  {
   "cell_type": "code",
   "execution_count": 107,
   "metadata": {},
   "outputs": [],
   "source": [
    "#Loading GLOVECS\n",
    "GLOVE_path = \"./raw/glove.6B/glove.6B.50d.txt\"\n",
    "reader = csv.reader(open(GLOVE_path), delimiter=' ', quoting=csv.QUOTE_NONE) \n",
    "GLOVES = {line[0]: np.array(list(map(float, line[1: ]))) for line in reader}"
   ]
  },
  {
   "cell_type": "code",
   "execution_count": 108,
   "metadata": {},
   "outputs": [],
   "source": [
    "glove_embed_matrix = np.random.randn(vocab_size, EMBED_HIDDEN_SIZE)\n",
    "for word in vocab:\n",
    "    idx = word_idx[word]\n",
    "    glove_embed_matrix[idx,:] = GLOVES.get(word, np.random.randn(EMBED_HIDDEN_SIZE))"
   ]
  },
  {
   "cell_type": "code",
   "execution_count": 112,
   "metadata": {},
   "outputs": [],
   "source": [
    "#Model construction -- Question repr as an input\n",
    "sentence = layers.Input(shape=(story_maxlen,), dtype='int32')\n",
    "encoded_sentence = layers.Embedding(vocab_size, EMBED_HIDDEN_SIZE, weights=[glove_embed_matrix], trainable=True)(sentence)\n",
    "#encoded_sentence.shape is (Batch_size, story_maxlen, EMBEDDING_SIZE)\n",
    "encoded_sentence = layers.Dropout(0.3)(encoded_sentence)\n",
    "\n",
    "question = layers.Input(shape=(query_maxlen,), dtype='int32')\n",
    "encoded_question = layers.Embedding(vocab_size, EMBED_HIDDEN_SIZE, weights=[glove_embed_matrix], trainable=True)(question)\n",
    "encoded_question = layers.Dropout(0.3)(encoded_question)\n",
    "encoded_question = RNN(EMBED_HIDDEN_SIZE)(encoded_question)\n",
    "encoded_question = layers.RepeatVector(story_maxlen)(encoded_question)\n",
    "# So the example reads everything into a single vector, then uses that vector to reconstruct the original sequence. If you want to iteratively\n",
    "# generate something but you only have one input, you can repeat the vector. That means each time step will get the same input but a different\n",
    "# hidden state.\n",
    "\n",
    "#Encoded question is added(literally) to every word input at every timestep\n",
    "merged = layers.add([encoded_sentence, encoded_question])\n",
    "merged = RNN(EMBED_HIDDEN_SIZE)(merged)\n",
    "merged = layers.Dropout(0.3)(merged)\n",
    "preds = layers.Dense(vocab_size, activation='softmax')(merged)\n",
    "\n",
    "model = Model([sentence, question], preds)\n",
    "model.compile(optimizer='adam',\n",
    "              loss='categorical_crossentropy',\n",
    "              metrics=['accuracy'])\n"
   ]
  },
  {
   "cell_type": "code",
   "execution_count": 119,
   "metadata": {},
   "outputs": [
    {
     "name": "stdout",
     "output_type": "stream",
     "text": [
      "Training\n",
      "Train on 950 samples, validate on 50 samples\n",
      "Epoch 1/40\n",
      "950/950 [==============================] - 2s 2ms/step - loss: 0.6770 - acc: 0.5600 - val_loss: 0.6941 - val_acc: 0.4600\n",
      "Epoch 2/40\n",
      "950/950 [==============================] - 2s 2ms/step - loss: 0.6820 - acc: 0.5474 - val_loss: 0.6650 - val_acc: 0.6000\n",
      "Epoch 3/40\n",
      "950/950 [==============================] - 2s 2ms/step - loss: 0.6735 - acc: 0.5705 - val_loss: 0.6441 - val_acc: 0.6600\n",
      "Epoch 4/40\n",
      "950/950 [==============================] - 2s 2ms/step - loss: 0.6731 - acc: 0.5400 - val_loss: 0.6726 - val_acc: 0.4600\n",
      "Epoch 5/40\n",
      "950/950 [==============================] - 2s 2ms/step - loss: 0.6676 - acc: 0.5768 - val_loss: 0.6792 - val_acc: 0.5200\n",
      "Epoch 6/40\n",
      "950/950 [==============================] - 2s 2ms/step - loss: 0.6729 - acc: 0.5568 - val_loss: 0.6723 - val_acc: 0.6200\n",
      "Epoch 7/40\n",
      "950/950 [==============================] - 2s 2ms/step - loss: 0.6667 - acc: 0.5558 - val_loss: 0.6512 - val_acc: 0.6800\n",
      "Epoch 8/40\n",
      "950/950 [==============================] - 2s 2ms/step - loss: 0.6538 - acc: 0.5768 - val_loss: 0.6684 - val_acc: 0.6000\n",
      "Epoch 9/40\n",
      "950/950 [==============================] - 2s 2ms/step - loss: 0.6623 - acc: 0.5874 - val_loss: 0.6376 - val_acc: 0.6600\n",
      "Epoch 10/40\n",
      "950/950 [==============================] - 2s 2ms/step - loss: 0.6570 - acc: 0.5695 - val_loss: 0.7089 - val_acc: 0.5200\n",
      "Epoch 11/40\n",
      "950/950 [==============================] - 3s 3ms/step - loss: 0.6669 - acc: 0.5505 - val_loss: 0.6439 - val_acc: 0.6400\n",
      "Epoch 12/40\n",
      "950/950 [==============================] - 3s 3ms/step - loss: 0.6568 - acc: 0.5905 - val_loss: 0.7081 - val_acc: 0.4200\n",
      "Epoch 13/40\n",
      "950/950 [==============================] - 3s 3ms/step - loss: 0.6458 - acc: 0.5863 - val_loss: 0.6968 - val_acc: 0.7000\n",
      "Epoch 14/40\n",
      "950/950 [==============================] - 2s 3ms/step - loss: 0.6486 - acc: 0.5600 - val_loss: 0.7098 - val_acc: 0.6000\n",
      "Epoch 15/40\n",
      "950/950 [==============================] - 2s 2ms/step - loss: 0.6441 - acc: 0.5874 - val_loss: 0.6780 - val_acc: 0.6600\n",
      "Epoch 16/40\n",
      "950/950 [==============================] - 2s 2ms/step - loss: 0.6421 - acc: 0.5758 - val_loss: 0.7037 - val_acc: 0.5800\n",
      "Epoch 17/40\n",
      "950/950 [==============================] - 2s 2ms/step - loss: 0.6431 - acc: 0.5768 - val_loss: 0.7051 - val_acc: 0.5200\n",
      "Epoch 18/40\n",
      "950/950 [==============================] - 2s 2ms/step - loss: 0.6296 - acc: 0.6032 - val_loss: 0.6652 - val_acc: 0.6800\n",
      "Epoch 19/40\n",
      "950/950 [==============================] - 2s 2ms/step - loss: 0.6363 - acc: 0.6200 - val_loss: 0.6840 - val_acc: 0.5600\n",
      "Epoch 20/40\n",
      "950/950 [==============================] - 3s 3ms/step - loss: 0.6340 - acc: 0.6032 - val_loss: 0.7308 - val_acc: 0.5000\n",
      "Epoch 21/40\n",
      "950/950 [==============================] - 3s 3ms/step - loss: 0.6238 - acc: 0.5979 - val_loss: 0.6754 - val_acc: 0.6000\n",
      "Epoch 22/40\n",
      "950/950 [==============================] - 3s 3ms/step - loss: 0.6162 - acc: 0.6084 - val_loss: 0.6859 - val_acc: 0.6200\n",
      "Epoch 23/40\n",
      "950/950 [==============================] - 2s 2ms/step - loss: 0.6224 - acc: 0.6126 - val_loss: 0.6611 - val_acc: 0.6600\n",
      "Epoch 24/40\n",
      "950/950 [==============================] - 2s 2ms/step - loss: 0.6279 - acc: 0.6063 - val_loss: 0.6907 - val_acc: 0.6600\n",
      "Epoch 25/40\n",
      "950/950 [==============================] - 2s 2ms/step - loss: 0.6234 - acc: 0.6126 - val_loss: 0.6997 - val_acc: 0.6400\n",
      "Epoch 26/40\n",
      "950/950 [==============================] - 2s 2ms/step - loss: 0.6174 - acc: 0.6242 - val_loss: 0.6941 - val_acc: 0.6000\n",
      "Epoch 27/40\n",
      "950/950 [==============================] - 3s 3ms/step - loss: 0.6082 - acc: 0.6274 - val_loss: 0.6805 - val_acc: 0.6600\n",
      "Epoch 28/40\n",
      "950/950 [==============================] - 3s 3ms/step - loss: 0.6199 - acc: 0.6347 - val_loss: 0.6498 - val_acc: 0.6400\n",
      "Epoch 29/40\n",
      "950/950 [==============================] - 2s 2ms/step - loss: 0.6174 - acc: 0.6116 - val_loss: 0.6982 - val_acc: 0.6000\n",
      "Epoch 30/40\n",
      "950/950 [==============================] - 2s 2ms/step - loss: 0.6044 - acc: 0.6400 - val_loss: 0.6536 - val_acc: 0.6400\n",
      "Epoch 31/40\n",
      "950/950 [==============================] - 3s 3ms/step - loss: 0.6098 - acc: 0.6432 - val_loss: 0.6670 - val_acc: 0.6400\n",
      "Epoch 32/40\n",
      "950/950 [==============================] - 3s 3ms/step - loss: 0.5977 - acc: 0.6484 - val_loss: 0.6660 - val_acc: 0.6600\n",
      "Epoch 33/40\n",
      "950/950 [==============================] - 3s 3ms/step - loss: 0.5997 - acc: 0.6421 - val_loss: 0.6831 - val_acc: 0.6000\n",
      "Epoch 34/40\n",
      "950/950 [==============================] - 2s 3ms/step - loss: 0.5963 - acc: 0.6453 - val_loss: 0.6942 - val_acc: 0.5800\n",
      "Epoch 35/40\n",
      "950/950 [==============================] - 2s 2ms/step - loss: 0.5863 - acc: 0.6453 - val_loss: 0.6344 - val_acc: 0.6200\n",
      "Epoch 36/40\n",
      "950/950 [==============================] - 2s 2ms/step - loss: 0.5988 - acc: 0.6547 - val_loss: 0.6338 - val_acc: 0.6600\n",
      "Epoch 37/40\n",
      "950/950 [==============================] - 2s 2ms/step - loss: 0.5903 - acc: 0.6505 - val_loss: 0.6543 - val_acc: 0.6800\n",
      "Epoch 38/40\n",
      "950/950 [==============================] - 2s 2ms/step - loss: 0.5930 - acc: 0.6568 - val_loss: 0.6001 - val_acc: 0.7000\n",
      "Epoch 39/40\n",
      "950/950 [==============================] - 3s 3ms/step - loss: 0.5868 - acc: 0.6516 - val_loss: 0.6482 - val_acc: 0.6600\n",
      "Epoch 40/40\n",
      "950/950 [==============================] - 3s 3ms/step - loss: 0.5715 - acc: 0.6726 - val_loss: 0.7443 - val_acc: 0.5200\n",
      "1000/1000 [==============================] - 1s 543us/step\n",
      "Test loss / test accuracy = 0.6589 / 0.6110\n"
     ]
    }
   ],
   "source": [
    "print('Training')\n",
    "model.fit([x, xq], y,\n",
    "          batch_size=BATCH_SIZE,\n",
    "          epochs=EPOCHS,\n",
    "          validation_split=0.05)\n",
    "loss, acc = model.evaluate([tx, txq], ty, batch_size=BATCH_SIZE)\n",
    "print('Test loss / test accuracy = {:.4f} / {:.4f}'.format(loss, acc))"
   ]
  },
  {
   "cell_type": "code",
   "execution_count": 97,
   "metadata": {},
   "outputs": [],
   "source": [
    "RNN_2 = recurrent.GRU\n",
    "\n",
    "#Model - Merging two separate state representations of Story and Question\n",
    "question = layers.Input(shape=(query_maxlen,), dtype='int32')\n",
    "encoded_question = layers.Embedding(vocab_size, EMBED_HIDDEN_SIZE)(question)\n",
    "# encoded_question = layers.Dropout(0.3)(encoded_question)\n",
    "encoded_question1 = RNN(QUERY_HIDDEN_SIZE)(encoded_question)\n",
    "\n",
    "story = layers.Input(shape=(story_maxlen,), dtype='int32')\n",
    "encoded_story = layers.Embedding(vocab_size, EMBED_HIDDEN_SIZE)(story)\n",
    "# encoded_question = layers.Dropout(0.3)(encoded_question)\n",
    "encoded_story1 = RNN(SENT_HIDDEN_SIZE)(encoded_story)\n",
    "\n",
    "merged_state_op = layers.add([encoded_story1, encoded_question1])\n",
    "preds = layers.Dense(vocab_size, activation='softmax')(merged_state_op)\n",
    "\n",
    "model2 = Model([story, question], preds)\n",
    "model2.compile(optimizer='adam',\n",
    "              loss='categorical_crossentropy',\n",
    "              metrics=['accuracy'])"
   ]
  },
  {
   "cell_type": "code",
   "execution_count": 100,
   "metadata": {},
   "outputs": [
    {
     "name": "stdout",
     "output_type": "stream",
     "text": [
      "Training\n",
      "Train on 950 samples, validate on 50 samples\n",
      "Epoch 1/40\n",
      "950/950 [==============================] - 2s 3ms/step - loss: 0.6832 - acc: 0.5747 - val_loss: 0.7647 - val_acc: 0.4200\n",
      "Epoch 2/40\n",
      "950/950 [==============================] - 2s 3ms/step - loss: 0.6922 - acc: 0.5326 - val_loss: 0.7305 - val_acc: 0.4600\n",
      "Epoch 3/40\n",
      "950/950 [==============================] - 2s 3ms/step - loss: 0.6848 - acc: 0.5547 - val_loss: 0.7418 - val_acc: 0.4400\n",
      "Epoch 4/40\n",
      "950/950 [==============================] - 2s 3ms/step - loss: 0.6806 - acc: 0.5537 - val_loss: 0.6600 - val_acc: 0.5400\n",
      "Epoch 5/40\n",
      "950/950 [==============================] - 2s 3ms/step - loss: 0.6861 - acc: 0.5411 - val_loss: 0.6835 - val_acc: 0.5400\n",
      "Epoch 6/40\n",
      "950/950 [==============================] - 2s 3ms/step - loss: 0.6797 - acc: 0.5537 - val_loss: 0.6842 - val_acc: 0.6000\n",
      "Epoch 7/40\n",
      "950/950 [==============================] - 2s 3ms/step - loss: 0.6816 - acc: 0.5737 - val_loss: 0.6866 - val_acc: 0.5800\n",
      "Epoch 8/40\n",
      "950/950 [==============================] - ETA: 0s - loss: 0.6842 - acc: 0.551 - 2s 3ms/step - loss: 0.6840 - acc: 0.5526 - val_loss: 0.7490 - val_acc: 0.4200\n",
      "Epoch 9/40\n",
      "950/950 [==============================] - 3s 3ms/step - loss: 0.6822 - acc: 0.5547 - val_loss: 0.6624 - val_acc: 0.5600\n",
      "Epoch 10/40\n",
      "950/950 [==============================] - 3s 3ms/step - loss: 0.6853 - acc: 0.5600 - val_loss: 0.7058 - val_acc: 0.4600\n",
      "Epoch 11/40\n",
      "950/950 [==============================] - 2s 3ms/step - loss: 0.6807 - acc: 0.5558 - val_loss: 0.6719 - val_acc: 0.6200\n",
      "Epoch 12/40\n",
      "950/950 [==============================] - 3s 3ms/step - loss: 0.6766 - acc: 0.5663 - val_loss: 0.6560 - val_acc: 0.5400\n",
      "Epoch 13/40\n",
      "950/950 [==============================] - 3s 4ms/step - loss: 0.6821 - acc: 0.5474 - val_loss: 0.6454 - val_acc: 0.6000\n",
      "Epoch 14/40\n",
      "950/950 [==============================] - 4s 4ms/step - loss: 0.6780 - acc: 0.5663 - val_loss: 0.6758 - val_acc: 0.6200\n",
      "Epoch 15/40\n",
      "950/950 [==============================] - 3s 3ms/step - loss: 0.6793 - acc: 0.5568 - val_loss: 0.7094 - val_acc: 0.4400\n",
      "Epoch 16/40\n",
      "950/950 [==============================] - 3s 3ms/step - loss: 0.6801 - acc: 0.5653 - val_loss: 0.6887 - val_acc: 0.5400\n",
      "Epoch 17/40\n",
      "950/950 [==============================] - 3s 3ms/step - loss: 0.6845 - acc: 0.5600 - val_loss: 0.6911 - val_acc: 0.5200\n",
      "Epoch 18/40\n",
      "950/950 [==============================] - 3s 4ms/step - loss: 0.6761 - acc: 0.5432 - val_loss: 0.6818 - val_acc: 0.5400\n",
      "Epoch 19/40\n",
      "950/950 [==============================] - 5s 5ms/step - loss: 0.6728 - acc: 0.5705 - val_loss: 0.6620 - val_acc: 0.6200\n",
      "Epoch 20/40\n",
      "950/950 [==============================] - 4s 4ms/step - loss: 0.6805 - acc: 0.5653 - val_loss: 0.7145 - val_acc: 0.4200\n",
      "Epoch 21/40\n",
      "950/950 [==============================] - ETA: 0s - loss: 0.6835 - acc: 0.549 - 3s 3ms/step - loss: 0.6819 - acc: 0.5547 - val_loss: 0.6783 - val_acc: 0.5800\n",
      "Epoch 22/40\n",
      "950/950 [==============================] - 3s 3ms/step - loss: 0.6759 - acc: 0.5747 - val_loss: 0.7271 - val_acc: 0.4400\n",
      "Epoch 23/40\n",
      "950/950 [==============================] - 3s 3ms/step - loss: 0.6743 - acc: 0.5621 - val_loss: 0.6950 - val_acc: 0.5400\n",
      "Epoch 24/40\n",
      "950/950 [==============================] - 4s 4ms/step - loss: 0.6733 - acc: 0.5779 - val_loss: 0.7102 - val_acc: 0.4600\n",
      "Epoch 25/40\n",
      "950/950 [==============================] - 5s 5ms/step - loss: 0.6769 - acc: 0.5568 - val_loss: 0.6442 - val_acc: 0.6800\n",
      "Epoch 26/40\n",
      "950/950 [==============================] - 3s 4ms/step - loss: 0.6803 - acc: 0.5663 - val_loss: 0.7039 - val_acc: 0.4600\n",
      "Epoch 27/40\n",
      "950/950 [==============================] - 3s 3ms/step - loss: 0.6718 - acc: 0.5695 - val_loss: 0.6816 - val_acc: 0.5400\n",
      "Epoch 28/40\n",
      "950/950 [==============================] - 3s 3ms/step - loss: 0.6758 - acc: 0.5632 - val_loss: 0.6959 - val_acc: 0.4800\n",
      "Epoch 29/40\n",
      "950/950 [==============================] - 3s 3ms/step - loss: 0.6689 - acc: 0.5947 - val_loss: 0.6753 - val_acc: 0.5800\n",
      "Epoch 30/40\n",
      "950/950 [==============================] - 4s 4ms/step - loss: 0.6707 - acc: 0.5789 - val_loss: 0.6638 - val_acc: 0.5800\n",
      "Epoch 31/40\n",
      "950/950 [==============================] - 5s 5ms/step - loss: 0.6746 - acc: 0.5884 - val_loss: 0.7075 - val_acc: 0.4800\n",
      "Epoch 32/40\n",
      "950/950 [==============================] - 3s 4ms/step - loss: 0.6686 - acc: 0.5821 - val_loss: 0.7411 - val_acc: 0.4400\n",
      "Epoch 33/40\n",
      "950/950 [==============================] - 3s 3ms/step - loss: 0.6692 - acc: 0.5789 - val_loss: 0.7042 - val_acc: 0.5200\n",
      "Epoch 34/40\n",
      "950/950 [==============================] - 3s 3ms/step - loss: 0.6676 - acc: 0.5832 - val_loss: 0.6718 - val_acc: 0.5400\n",
      "Epoch 35/40\n",
      "950/950 [==============================] - 3s 3ms/step - loss: 0.6710 - acc: 0.5863 - val_loss: 0.6733 - val_acc: 0.5000\n",
      "Epoch 36/40\n",
      "950/950 [==============================] - 3s 3ms/step - loss: 0.6693 - acc: 0.5726 - val_loss: 0.6922 - val_acc: 0.4800\n",
      "Epoch 37/40\n",
      "950/950 [==============================] - 4s 4ms/step - loss: 0.6697 - acc: 0.5705 - val_loss: 0.6778 - val_acc: 0.5600\n",
      "Epoch 38/40\n",
      "950/950 [==============================] - 5s 5ms/step - loss: 0.6666 - acc: 0.5916 - val_loss: 0.6758 - val_acc: 0.5400\n",
      "Epoch 39/40\n",
      "950/950 [==============================] - 3s 4ms/step - loss: 0.6643 - acc: 0.6074 - val_loss: 0.7122 - val_acc: 0.5000\n",
      "Epoch 40/40\n",
      "950/950 [==============================] - 4s 4ms/step - loss: 0.6645 - acc: 0.5926 - val_loss: 0.6778 - val_acc: 0.5400\n",
      "1000/1000 [==============================] - 1s 935us/step\n",
      "Test loss / test accuracy = 0.7911 / 0.4970\n"
     ]
    }
   ],
   "source": [
    "print(\"Training\")\n",
    "model2.fit([x, xq], y,\n",
    "          batch_size=BATCH_SIZE,\n",
    "          epochs=EPOCHS,\n",
    "          validation_split=0.05)\n",
    "loss, acc = model.evaluate([tx, txq], ty, batch_size=BATCH_SIZE)\n",
    "print('Test loss / test accuracy = {:.4f} / {:.4f}'.format(loss, acc))"
   ]
  },
  {
   "cell_type": "code",
   "execution_count": 122,
   "metadata": {},
   "outputs": [
    {
     "name": "stdout",
     "output_type": "stream",
     "text": [
      "Pred:no-Truth:no\tPred:no-Truth:no\tPred:yes-Truth:yes\tPred:yes-Truth:yes\tPred:no-Truth:no\tPred:no-Truth:no\tPred:no-Truth:no\tPred:no-Truth:yes\tPred:no-Truth:no\tPred:no-Truth:yes\tPred:no-Truth:yes\tPred:yes-Truth:no\tPred:no-Truth:yes\tPred:no-Truth:yes\tPred:no-Truth:yes\tPred:no-Truth:yes\tPred:no-Truth:yes\tPred:no-Truth:no\tPred:no-Truth:no\tPred:no-Truth:no\tPred:yes-Truth:yes\tPred:no-Truth:no\tPred:no-Truth:yes\tPred:no-Truth:no\tPred:no-Truth:no\tPred:yes-Truth:yes\tPred:yes-Truth:yes\tPred:yes-Truth:yes\tPred:no-Truth:no\tPred:no-Truth:yes\tPred:yes-Truth:yes\tPred:no-Truth:no\tPred:yes-Truth:no\tPred:no-Truth:no\tPred:yes-Truth:no\tPred:no-Truth:no\tPred:no-Truth:yes\tPred:yes-Truth:yes\tPred:yes-Truth:yes\tPred:no-Truth:no\tPred:no-Truth:yes\tPred:no-Truth:no\tPred:no-Truth:no\tPred:no-Truth:no\tPred:no-Truth:yes\tPred:yes-Truth:yes\tPred:no-Truth:yes\tPred:no-Truth:no\tPred:no-Truth:yes\tPred:no-Truth:yes\tPred:no-Truth:yes\tPred:no-Truth:yes\tPred:yes-Truth:yes\tPred:yes-Truth:yes\tPred:no-Truth:yes\tPred:no-Truth:no\tPred:no-Truth:no\tPred:no-Truth:yes\tPred:no-Truth:no\tPred:yes-Truth:no\tPred:no-Truth:no\tPred:no-Truth:no\tPred:yes-Truth:no\tPred:yes-Truth:no\tPred:no-Truth:yes\tPred:no-Truth:yes\tPred:no-Truth:yes\tPred:yes-Truth:yes\tPred:no-Truth:no\tPred:yes-Truth:no\tPred:no-Truth:no\tPred:no-Truth:yes\tPred:no-Truth:no\tPred:yes-Truth:yes\tPred:yes-Truth:no\tPred:no-Truth:yes\tPred:yes-Truth:yes\tPred:no-Truth:yes\tPred:no-Truth:no\tPred:yes-Truth:yes\tPred:yes-Truth:yes\tPred:no-Truth:no\tPred:no-Truth:yes\tPred:no-Truth:yes\tPred:no-Truth:no\tPred:no-Truth:no\tPred:no-Truth:yes\tPred:yes-Truth:no\tPred:no-Truth:yes\tPred:no-Truth:yes\tPred:no-Truth:yes\tPred:no-Truth:no\tPred:no-Truth:no\tPred:no-Truth:no\tPred:no-Truth:yes\tPred:no-Truth:no\tPred:no-Truth:no\tPred:no-Truth:yes\tPred:yes-Truth:yes\tPred:no-Truth:no\tPred:no-Truth:no\tPred:no-Truth:no\tPred:no-Truth:no\tPred:no-Truth:no\tPred:no-Truth:no\tPred:no-Truth:no\tPred:no-Truth:no\tPred:no-Truth:no\tPred:no-Truth:no\tPred:no-Truth:no\tPred:no-Truth:no\tPred:no-Truth:no\tPred:no-Truth:yes\tPred:no-Truth:yes\tPred:no-Truth:yes\tPred:no-Truth:no\tPred:no-Truth:yes\tPred:no-Truth:yes\tPred:no-Truth:yes\tPred:yes-Truth:no\tPred:no-Truth:no\tPred:no-Truth:yes\tPred:no-Truth:yes\tPred:no-Truth:no\tPred:no-Truth:yes\tPred:no-Truth:no\tPred:no-Truth:no\tPred:no-Truth:no\tPred:no-Truth:no\tPred:no-Truth:no\tPred:no-Truth:no\tPred:yes-Truth:yes\tPred:no-Truth:no\tPred:yes-Truth:yes\tPred:no-Truth:no\tPred:no-Truth:no\tPred:no-Truth:no\tPred:no-Truth:no\tPred:no-Truth:no\tPred:no-Truth:no\tPred:no-Truth:no\tPred:yes-Truth:yes\tPred:no-Truth:no\tPred:no-Truth:no\tPred:yes-Truth:yes\tPred:no-Truth:yes\tPred:no-Truth:no\tPred:no-Truth:yes\tPred:no-Truth:no\tPred:no-Truth:no\tPred:no-Truth:yes\tPred:yes-Truth:yes\tPred:no-Truth:no\tPred:no-Truth:yes\tPred:no-Truth:no\tPred:no-Truth:no\tPred:no-Truth:no\tPred:yes-Truth:no\tPred:no-Truth:no\tPred:yes-Truth:no\tPred:yes-Truth:yes\tPred:no-Truth:yes\tPred:no-Truth:yes\tPred:no-Truth:yes\tPred:no-Truth:yes\tPred:no-Truth:no\tPred:yes-Truth:yes\tPred:no-Truth:no\tPred:yes-Truth:yes\tPred:no-Truth:yes\tPred:no-Truth:yes\tPred:no-Truth:no\tPred:no-Truth:no\tPred:no-Truth:no\tPred:no-Truth:no\tPred:yes-Truth:yes\tPred:yes-Truth:yes\tPred:no-Truth:no\tPred:no-Truth:no\tPred:no-Truth:no\tPred:yes-Truth:yes\tPred:yes-Truth:yes\tPred:no-Truth:yes\tPred:no-Truth:yes\tPred:no-Truth:no\tPred:yes-Truth:yes\tPred:no-Truth:yes\tPred:yes-Truth:yes\tPred:no-Truth:yes\tPred:no-Truth:no\tPred:no-Truth:yes\tPred:no-Truth:no\tPred:yes-Truth:yes\tPred:yes-Truth:yes\tPred:yes-Truth:yes\tPred:no-Truth:yes\tPred:no-Truth:yes\tPred:no-Truth:no\tPred:no-Truth:no\tPred:no-Truth:yes\tPred:no-Truth:yes\tPred:no-Truth:yes\tPred:no-Truth:no\tPred:yes-Truth:no\tPred:no-Truth:no\tPred:yes-Truth:yes\tPred:yes-Truth:yes\tPred:no-Truth:no\tPred:no-Truth:yes\tPred:no-Truth:yes\tPred:yes-Truth:yes\tPred:no-Truth:no\tPred:no-Truth:no\tPred:no-Truth:no\tPred:no-Truth:no\tPred:no-Truth:no\tPred:no-Truth:yes\tPred:no-Truth:no\tPred:no-Truth:no\tPred:no-Truth:yes\tPred:no-Truth:yes\tPred:no-Truth:no\tPred:no-Truth:no\tPred:no-Truth:yes\tPred:no-Truth:yes\tPred:yes-Truth:yes\tPred:no-Truth:yes\tPred:no-Truth:no\tPred:no-Truth:yes\tPred:no-Truth:no\tPred:no-Truth:no\tPred:yes-Truth:yes\tPred:no-Truth:no\tPred:no-Truth:yes\tPred:no-Truth:yes\tPred:no-Truth:yes\tPred:no-Truth:no\tPred:no-Truth:no\tPred:yes-Truth:no\tPred:no-Truth:no\tPred:no-Truth:no\tPred:no-Truth:no\tPred:yes-Truth:yes\tPred:no-Truth:no\tPred:no-Truth:no\tPred:no-Truth:yes\tPred:yes-Truth:yes\tPred:yes-Truth:yes\tPred:no-Truth:no\tPred:no-Truth:yes\tPred:yes-Truth:yes\tPred:yes-Truth:yes\tPred:no-Truth:no\tPred:no-Truth:yes\tPred:no-Truth:yes\tPred:yes-Truth:yes\tPred:yes-Truth:yes\tPred:no-Truth:yes\tPred:yes-Truth:no\tPred:no-Truth:yes\tPred:no-Truth:no\tPred:no-Truth:yes\tPred:no-Truth:yes\tPred:no-Truth:no\tPred:no-Truth:no\tPred:no-Truth:yes\tPred:yes-Truth:no\tPred:no-Truth:no\tPred:no-Truth:yes\tPred:no-Truth:no\tPred:no-Truth:yes\tPred:no-Truth:no\tPred:yes-Truth:no\tPred:no-Truth:yes\tPred:no-Truth:no\tPred:no-Truth:yes\tPred:yes-Truth:yes\tPred:no-Truth:yes\tPred:no-Truth:no\tPred:no-Truth:no\tPred:yes-Truth:yes\tPred:yes-Truth:no\tPred:no-Truth:yes\tPred:no-Truth:yes\tPred:yes-Truth:yes\tPred:yes-Truth:yes\tPred:no-Truth:no\tPred:no-Truth:no\tPred:no-Truth:yes\tPred:no-Truth:no\tPred:no-Truth:yes\tPred:no-Truth:no\tPred:no-Truth:yes\tPred:no-Truth:no\tPred:no-Truth:no\tPred:yes-Truth:no\tPred:no-Truth:yes\tPred:no-Truth:no\tPred:no-Truth:no\tPred:yes-Truth:yes\tPred:yes-Truth:yes\tPred:no-Truth:no\tPred:yes-Truth:yes\tPred:no-Truth:yes\tPred:no-Truth:no\tPred:yes-Truth:yes\tPred:yes-Truth:no\tPred:yes-Truth:yes\tPred:yes-Truth:no\tPred:no-Truth:no\tPred:no-Truth:yes\tPred:no-Truth:no\tPred:yes-Truth:yes\tPred:no-Truth:no\tPred:no-Truth:yes\tPred:no-Truth:no\tPred:no-Truth:yes\tPred:no-Truth:no\tPred:yes-Truth:no\tPred:yes-Truth:yes\tPred:no-Truth:yes\tPred:no-Truth:no\tPred:no-Truth:no\tPred:no-Truth:yes\tPred:no-Truth:no\tPred:no-Truth:no\tPred:no-Truth:no\tPred:no-Truth:no\tPred:no-Truth:no\tPred:no-Truth:no\tPred:yes-Truth:yes\tPred:no-Truth:no\tPred:yes-Truth:yes\tPred:yes-Truth:yes\tPred:no-Truth:yes\tPred:no-Truth:yes\tPred:yes-Truth:no\tPred:yes-Truth:no\tPred:no-Truth:yes\tPred:yes-Truth:no\tPred:no-Truth:no\tPred:no-Truth:yes\tPred:no-Truth:no\tPred:no-Truth:no\tPred:yes-Truth:yes\tPred:yes-Truth:no\tPred:no-Truth:no\tPred:no-Truth:no\tPred:yes-Truth:no\tPred:no-Truth:no\tPred:no-Truth:yes\tPred:no-Truth:yes\tPred:no-Truth:yes\tPred:no-Truth:yes\tPred:no-Truth:no\tPred:no-Truth:no\tPred:yes-Truth:yes\tPred:yes-Truth:yes\tPred:yes-Truth:no\tPred:no-Truth:yes\tPred:yes-Truth:yes\tPred:no-Truth:no\tPred:yes-Truth:no\tPred:yes-Truth:yes\tPred:no-Truth:yes\tPred:no-Truth:no\tPred:no-Truth:no\tPred:no-Truth:yes\tPred:no-Truth:no\tPred:no-Truth:no\tPred:yes-Truth:no\tPred:no-Truth:no\tPred:no-Truth:yes\tPred:no-Truth:no\tPred:no-Truth:no\tPred:no-Truth:no\tPred:no-Truth:yes\tPred:no-Truth:no\tPred:yes-Truth:no\tPred:yes-Truth:yes\tPred:yes-Truth:yes\tPred:yes-Truth:yes\tPred:yes-Truth:no\tPred:yes-Truth:yes\tPred:no-Truth:no\tPred:no-Truth:no\tPred:no-Truth:yes\tPred:no-Truth:no\tPred:no-Truth:yes\tPred:no-Truth:yes\tPred:no-Truth:no\tPred:no-Truth:no\tPred:yes-Truth:no\tPred:yes-Truth:no\tPred:no-Truth:no\tPred:no-Truth:no\tPred:no-Truth:no\tPred:no-Truth:yes\tPred:no-Truth:yes\tPred:yes-Truth:yes\tPred:no-Truth:yes\tPred:yes-Truth:yes\tPred:no-Truth:yes\tPred:no-Truth:yes\tPred:no-Truth:no\tPred:yes-Truth:yes\tPred:yes-Truth:yes\tPred:no-Truth:yes\tPred:yes-Truth:no\tPred:no-Truth:no\tPred:no-Truth:yes\tPred:no-Truth:yes\tPred:no-Truth:no\tPred:no-Truth:no\tPred:no-Truth:yes\tPred:no-Truth:no\tPred:no-Truth:no\tPred:yes-Truth:yes\tPred:no-Truth:no\tPred:yes-Truth:yes\tPred:yes-Truth:yes\tPred:no-Truth:no\tPred:no-Truth:yes\tPred:no-Truth:no\tPred:no-Truth:yes\tPred:no-Truth:no\tPred:no-Truth:no\tPred:yes-Truth:no\tPred:no-Truth:yes\tPred:no-Truth:no\tPred:no-Truth:no\tPred:no-Truth:no\tPred:no-Truth:yes\tPred:yes-Truth:yes\tPred:no-Truth:no\tPred:no-Truth:yes\tPred:no-Truth:yes\tPred:no-Truth:yes\tPred:yes-Truth:yes\tPred:yes-Truth:yes\tPred:no-Truth:yes\tPred:yes-Truth:no\tPred:no-Truth:yes\tPred:no-Truth:no\tPred:yes-Truth:yes\tPred:no-Truth:no\tPred:no-Truth:no\tPred:no-Truth:no\tPred:no-Truth:no\tPred:no-Truth:no\tPred:no-Truth:yes\tPred:no-Truth:no\tPred:no-Truth:yes\tPred:yes-Truth:no\tPred:no-Truth:no\tPred:no-Truth:no\tPred:no-Truth:yes\tPred:no-Truth:no\tPred:no-Truth:no\tPred:yes-Truth:yes\tPred:no-Truth:no\tPred:no-Truth:no\tPred:no-Truth:yes\tPred:no-Truth:no\tPred:yes-Truth:yes\tPred:yes-Truth:yes\tPred:no-Truth:yes\tPred:yes-Truth:yes\tPred:no-Truth:no\tPred:no-Truth:yes\tPred:no-Truth:no\tPred:yes-Truth:no\tPred:no-Truth:yes\tPred:no-Truth:yes\tPred:yes-Truth:yes\tPred:yes-Truth:yes\tPred:no-Truth:yes\tPred:no-Truth:no\tPred:yes-Truth:no\tPred:no-Truth:no\tPred:yes-Truth:yes\tPred:no-Truth:no\tPred:no-Truth:no\tPred:no-Truth:no\tPred:yes-Truth:no\tPred:no-Truth:yes\tPred:yes-Truth:yes\tPred:no-Truth:yes\tPred:yes-Truth:no\tPred:no-Truth:yes\tPred:no-Truth:yes\tPred:no-Truth:no\tPred:no-Truth:yes\tPred:yes-Truth:yes\tPred:no-Truth:yes\tPred:no-Truth:no\tPred:yes-Truth:yes\tPred:no-Truth:yes\tPred:yes-Truth:yes\tPred:yes-Truth:no\tPred:no-Truth:no\tPred:no-Truth:yes\tPred:yes-Truth:yes\tPred:no-Truth:yes\tPred:no-Truth:yes\tPred:yes-Truth:yes\tPred:yes-Truth:no\tPred:yes-Truth:yes\tPred:no-Truth:yes\tPred:no-Truth:yes\tPred:no-Truth:no\tPred:no-Truth:no\tPred:yes-Truth:no\tPred:no-Truth:yes\tPred:no-Truth:no\tPred:no-Truth:yes\tPred:no-Truth:no\tPred:no-Truth:yes\tPred:no-Truth:yes\tPred:yes-Truth:no\tPred:no-Truth:no\tPred:no-Truth:no\tPred:no-Truth:no\tPred:yes-Truth:yes\tPred:no-Truth:no\tPred:yes-Truth:no\tPred:yes-Truth:yes\tPred:no-Truth:no\tPred:yes-Truth:yes\tPred:yes-Truth:no\tPred:no-Truth:yes\tPred:no-Truth:yes\tPred:no-Truth:yes\tPred:no-Truth:yes\tPred:no-Truth:yes\tPred:no-Truth:no\tPred:no-Truth:yes\tPred:no-Truth:no\tPred:no-Truth:yes\tPred:no-Truth:yes\tPred:no-Truth:no\tPred:no-Truth:yes\tPred:no-Truth:yes\tPred:no-Truth:yes\tPred:no-Truth:yes\tPred:yes-Truth:no\tPred:no-Truth:no\tPred:yes-Truth:yes\tPred:yes-Truth:yes\tPred:yes-Truth:yes\tPred:yes-Truth:yes\tPred:yes-Truth:no\tPred:yes-Truth:yes\tPred:no-Truth:yes\tPred:no-Truth:no\tPred:no-Truth:no\tPred:no-Truth:yes\tPred:no-Truth:no\tPred:no-Truth:no\tPred:no-Truth:no\tPred:yes-Truth:no\tPred:no-Truth:no\tPred:no-Truth:no\tPred:yes-Truth:no\tPred:no-Truth:yes\tPred:no-Truth:yes\tPred:no-Truth:no\tPred:yes-Truth:yes\tPred:no-Truth:no\tPred:no-Truth:no\tPred:no-Truth:no\tPred:yes-Truth:yes\tPred:no-Truth:no\tPred:no-Truth:no\tPred:no-Truth:no\tPred:yes-Truth:yes\tPred:no-Truth:no\tPred:no-Truth:yes\tPred:no-Truth:no\tPred:no-Truth:no\tPred:no-Truth:no\tPred:no-Truth:no\tPred:no-Truth:no\tPred:yes-Truth:yes\tPred:yes-Truth:yes\tPred:yes-Truth:yes\tPred:no-Truth:no\tPred:no-Truth:no\tPred:no-Truth:no\tPred:yes-Truth:yes\tPred:no-Truth:yes\tPred:no-Truth:no\tPred:no-Truth:yes\tPred:yes-Truth:no\tPred:no-Truth:no\tPred:no-Truth:yes\tPred:no-Truth:yes\tPred:no-Truth:yes\tPred:no-Truth:yes\tPred:no-Truth:no\tPred:yes-Truth:yes\tPred:yes-Truth:no\tPred:yes-Truth:yes\tPred:no-Truth:no\tPred:no-Truth:yes\tPred:yes-Truth:yes\tPred:yes-Truth:yes\tPred:no-Truth:no\tPred:no-Truth:yes\tPred:no-Truth:yes\tPred:no-Truth:yes\tPred:no-Truth:yes\tPred:yes-Truth:no\tPred:no-Truth:no\tPred:yes-Truth:no\tPred:no-Truth:no\tPred:no-Truth:yes\tPred:no-Truth:yes\tPred:no-Truth:yes\tPred:no-Truth:no\tPred:yes-Truth:no\tPred:yes-Truth:yes\tPred:no-Truth:no\tPred:no-Truth:yes\tPred:no-Truth:yes\tPred:no-Truth:yes\tPred:yes-Truth:yes\tPred:yes-Truth:no\tPred:no-Truth:no\tPred:no-Truth:yes\tPred:no-Truth:no\tPred:no-Truth:no\tPred:no-Truth:no\tPred:yes-Truth:no\tPred:no-Truth:no\tPred:no-Truth:yes\tPred:no-Truth:no\tPred:yes-Truth:yes\tPred:no-Truth:no\tPred:yes-Truth:no\tPred:no-Truth:yes\tPred:no-Truth:yes\tPred:no-Truth:no\tPred:no-Truth:yes\tPred:no-Truth:no\tPred:yes-Truth:yes\tPred:no-Truth:yes\tPred:no-Truth:yes\tPred:no-Truth:no\tPred:no-Truth:no\tPred:no-Truth:yes\tPred:no-Truth:yes\tPred:no-Truth:yes\tPred:yes-Truth:no\tPred:no-Truth:yes\tPred:yes-Truth:no\tPred:yes-Truth:yes\tPred:no-Truth:yes\tPred:no-Truth:no\tPred:no-Truth:no\tPred:no-Truth:no\tPred:yes-Truth:yes\tPred:yes-Truth:yes\tPred:no-Truth:yes\tPred:no-Truth:yes\tPred:yes-Truth:yes\tPred:yes-Truth:yes\tPred:no-Truth:yes\tPred:no-Truth:yes\tPred:no-Truth:no\tPred:no-Truth:no\tPred:no-Truth:no\tPred:no-Truth:no\tPred:yes-Truth:no\tPred:no-Truth:yes\tPred:yes-Truth:yes\tPred:no-Truth:no\tPred:yes-Truth:no\tPred:no-Truth:no\tPred:no-Truth:no\tPred:no-Truth:no\tPred:no-Truth:yes\tPred:no-Truth:yes\tPred:no-Truth:no\tPred:no-Truth:no\tPred:no-Truth:yes\tPred:no-Truth:yes\tPred:no-Truth:no\tPred:no-Truth:no\tPred:no-Truth:yes\tPred:no-Truth:no\tPred:no-Truth:no\tPred:no-Truth:no\tPred:no-Truth:yes\tPred:yes-Truth:yes\tPred:no-Truth:no\tPred:yes-Truth:yes\tPred:no-Truth:no\tPred:no-Truth:no\tPred:no-Truth:no\tPred:no-Truth:yes\tPred:no-Truth:no\tPred:no-Truth:yes\tPred:no-Truth:no\tPred:no-Truth:no\tPred:no-Truth:no\tPred:no-Truth:no\tPred:yes-Truth:yes\tPred:yes-Truth:no\tPred:no-Truth:yes\tPred:yes-Truth:yes\tPred:yes-Truth:yes\tPred:no-Truth:yes\tPred:no-Truth:yes\tPred:no-Truth:yes\tPred:no-Truth:no\tPred:yes-Truth:yes\tPred:no-Truth:no\tPred:yes-Truth:yes\tPred:yes-Truth:yes\tPred:yes-Truth:yes\tPred:yes-Truth:no\tPred:yes-Truth:yes\tPred:no-Truth:no\tPred:no-Truth:yes\tPred:no-Truth:yes\tPred:yes-Truth:yes\tPred:no-Truth:yes\tPred:yes-Truth:yes\tPred:yes-Truth:yes\tPred:no-Truth:yes\tPred:no-Truth:yes\tPred:no-Truth:yes\tPred:no-Truth:no\tPred:no-Truth:yes\tPred:no-Truth:no\tPred:yes-Truth:yes\tPred:no-Truth:no\tPred:no-Truth:no\tPred:no-Truth:no\tPred:no-Truth:no\tPred:no-Truth:no\tPred:no-Truth:no\tPred:no-Truth:no\tPred:no-Truth:yes\tPred:no-Truth:no\tPred:no-Truth:no\tPred:no-Truth:yes\tPred:yes-Truth:no\tPred:no-Truth:yes\tPred:yes-Truth:yes\tPred:yes-Truth:yes\tPred:yes-Truth:yes\tPred:no-Truth:no\tPred:yes-Truth:yes\tPred:no-Truth:yes\tPred:no-Truth:no\tPred:no-Truth:yes\tPred:yes-Truth:no\tPred:no-Truth:no\tPred:no-Truth:yes\tPred:no-Truth:yes\tPred:no-Truth:no\tPred:no-Truth:no\tPred:no-Truth:yes\tPred:no-Truth:no\tPred:no-Truth:no\tPred:no-Truth:no\tPred:no-Truth:yes\tPred:no-Truth:yes\tPred:no-Truth:no\tPred:no-Truth:no\tPred:no-Truth:no\tPred:no-Truth:yes\tPred:yes-Truth:yes\tPred:no-Truth:no\tPred:yes-Truth:no\tPred:yes-Truth:no\tPred:no-Truth:no\tPred:yes-Truth:yes\tPred:no-Truth:no\tPred:no-Truth:yes\tPred:no-Truth:yes\tPred:no-Truth:yes\tPred:no-Truth:no\tPred:no-Truth:yes\tPred:no-Truth:yes\tPred:no-Truth:yes\tPred:no-Truth:no\tPred:no-Truth:no\tPred:no-Truth:no\tPred:no-Truth:yes\tPred:no-Truth:no\tPred:no-Truth:no\tPred:no-Truth:no\tPred:yes-Truth:yes\tPred:yes-Truth:yes\tPred:yes-Truth:no\tPred:no-Truth:yes\tPred:no-Truth:no\tPred:yes-Truth:yes\tPred:no-Truth:yes\tPred:no-Truth:yes\tPred:no-Truth:yes\tPred:no-Truth:no\tPred:no-Truth:no\tPred:yes-Truth:no\tPred:yes-Truth:yes\tPred:yes-Truth:no\tPred:no-Truth:no\tPred:yes-Truth:yes\tPred:yes-Truth:yes\tPred:yes-Truth:yes\tPred:no-Truth:yes\tPred:yes-Truth:yes\tPred:no-Truth:no\tPred:no-Truth:yes\tPred:yes-Truth:yes\tPred:no-Truth:yes\tPred:yes-Truth:yes\tPred:yes-Truth:no\tPred:yes-Truth:no\tPred:no-Truth:no\tPred:no-Truth:yes\tPred:no-Truth:yes\tPred:no-Truth:yes\tPred:yes-Truth:no\tPred:yes-Truth:no\tPred:no-Truth:no\tPred:yes-Truth:yes\tPred:yes-Truth:yes\tPred:no-Truth:no\tPred:yes-Truth:yes\tPred:no-Truth:no\tPred:no-Truth:yes\tPred:no-Truth:no\tPred:no-Truth:no\tPred:no-Truth:no\tPred:yes-Truth:yes\tPred:no-Truth:no\tPred:no-Truth:no\tPred:no-Truth:no\tPred:no-Truth:no\tPred:no-Truth:no\tPred:no-Truth:no\tPred:no-Truth:yes\tPred:no-Truth:yes\tPred:no-Truth:no\tPred:no-Truth:yes\tPred:no-Truth:no\tPred:no-Truth:yes\tPred:no-Truth:yes\tPred:yes-Truth:yes\tPred:yes-Truth:yes\tPred:no-Truth:no\tPred:no-Truth:no\tPred:no-Truth:no\tPred:yes-Truth:yes\tPred:no-Truth:yes\tPred:yes-Truth:yes\tPred:no-Truth:no\tPred:no-Truth:yes\tPred:no-Truth:no\tPred:no-Truth:yes\tPred:no-Truth:yes\tPred:no-Truth:no\tPred:yes-Truth:yes\tPred:yes-Truth:yes\tPred:no-Truth:no\tPred:no-Truth:no\tPred:yes-Truth:yes\tPred:yes-Truth:yes\tPred:no-Truth:no\tPred:no-Truth:no\tPred:yes-Truth:yes\tPred:no-Truth:no\tPred:no-Truth:no\tPred:yes-Truth:no\tPred:no-Truth:yes\tPred:no-Truth:no\tPred:no-Truth:no\tPred:yes-Truth:no\tPred:yes-Truth:no\tPred:no-Truth:no\tPred:no-Truth:yes\tPred:no-Truth:no\tPred:yes-Truth:no\tPred:yes-Truth:no\tPred:no-Truth:no\tPred:no-Truth:yes\tPred:no-Truth:no\tPred:yes-Truth:no\tPred:yes-Truth:yes\tPred:no-Truth:yes\tPred:no-Truth:no\tPred:no-Truth:no\tPred:no-Truth:no\tPred:yes-Truth:yes\tPred:no-Truth:yes\tPred:no-Truth:yes\tPred:no-Truth:no\tPred:no-Truth:no\tPred:no-Truth:yes\tPred:no-Truth:yes\tPred:no-Truth:yes\tPred:no-Truth:yes\tPred:no-Truth:no\tPred:no-Truth:no\tPred:no-Truth:no\tPred:no-Truth:no\tPred:yes-Truth:no\tPred:no-Truth:no\tPred:no-Truth:no\tPred:yes-Truth:yes\tPred:yes-Truth:yes\tPred:no-Truth:yes\tPred:no-Truth:yes\tPred:no-Truth:yes\tPred:no-Truth:no\tPred:no-Truth:no\tPred:yes-Truth:yes\tPred:yes-Truth:yes\tPred:yes-Truth:yes\tPred:no-Truth:yes\tPred:yes-Truth:no\tPred:no-Truth:no\tPred:no-Truth:yes\tPred:yes-Truth:yes\tPred:yes-Truth:yes\tPred:no-Truth:no\tPred:yes-Truth:yes\tPred:no-Truth:no\tPred:no-Truth:yes\tPred:no-Truth:no\tPred:yes-Truth:yes\tPred:yes-Truth:yes\tPred:no-Truth:no\tPred:no-Truth:no\tPred:no-Truth:yes\tPred:no-Truth:no\tPred:no-Truth:no\tPred:no-Truth:no\tPred:no-Truth:no\tPred:no-Truth:no\tPred:no-Truth:yes\tPred:no-Truth:no\tPred:no-Truth:yes\tPred:no-Truth:no\tPred:yes-Truth:yes\tPred:no-Truth:no\tPred:yes-Truth:yes\tPred:no-Truth:no\tPred:no-Truth:no\tPred:no-Truth:yes\tPred:no-Truth:yes\tPred:no-Truth:yes\tPred:no-Truth:no\tPred:yes-Truth:yes\tPred:yes-Truth:yes\tPred:yes-Truth:yes\tPred:no-Truth:no\tPred:yes-Truth:yes\tPred:no-Truth:yes\tPred:no-Truth:yes\tPred:no-Truth:yes\tPred:no-Truth:no\tPred:no-Truth:yes\tPred:no-Truth:no\tPred:yes-Truth:yes\tPred:yes-Truth:yes\tPred:yes-Truth:yes\tPred:no-Truth:yes\tPred:yes-Truth:no\tPred:no-Truth:no\tPred:yes-Truth:yes\tPred:no-Truth:yes\tPred:no-Truth:yes\tPred:no-Truth:yes\tPred:no-Truth:yes\tPred:no-Truth:no\tPred:no-Truth:no\tPred:yes-Truth:yes\tPred:no-Truth:no\tPred:no-Truth:yes\tPred:no-Truth:no\tPred:yes-Truth:yes\tPred:no-Truth:no\tPred:no-Truth:yes\tPred:no-Truth:no\tPred:yes-Truth:yes\tPred:no-Truth:yes\tPred:no-Truth:no\tPred:no-Truth:no\tPred:no-Truth:yes\tPred:no-Truth:no\tPred:no-Truth:no\tPred:no-Truth:no\tPred:no-Truth:no\tPred:yes-Truth:yes\tPred:yes-Truth:yes\t"
     ]
    }
   ],
   "source": [
    "t_probs = model.predict([tx, txq], batch_size=None, verbose=0, steps=None)\n",
    "t_preds = np.argmax(t_probs, axis=1)\n",
    "# vocab[25]\n",
    "frmt = \"Pred:{}-Truth:{}\\t\"\n",
    "fail = []\n",
    "for idx, i_pred in enumerate(t_preds):\n",
    "    g_id = np.argmax(ty[idx])\n",
    "    if i_pred != g_id: fail.append(idx)\n",
    "    print(frmt.format(vocab[i_pred-1], vocab[g_id-1]), end=\"\")\n"
   ]
  },
  {
   "cell_type": "code",
   "execution_count": 123,
   "metadata": {},
   "outputs": [
    {
     "name": "stdout",
     "output_type": "stream",
     "text": [
      "Total Failed: 389\n",
      "--> John moved to the office . Daniel journeyed to the garden . John picked up the milk there . Sandra took the football there . Mary went back to the kitchen . Daniel journeyed to the bedroom . John left the milk . Mary journeyed to the bathroom . Mary moved to the bedroom . Daniel went back to the office . Is Daniel in the office ? yes\n",
      "--> Mary went to the garden . Mary went to the bedroom . Sandra went back to the garden . Daniel grabbed the milk there . Mary journeyed to the hallway . John travelled to the kitchen . John went back to the garden . Sandra went back to the bedroom . Sandra moved to the kitchen . Daniel put down the milk . Is Sandra in the kitchen ? yes\n",
      "--> Mary went back to the garden . Daniel journeyed to the hallway . Mary went to the bathroom . Daniel went back to the bathroom . Is Daniel in the kitchen ? no\n"
     ]
    }
   ],
   "source": [
    "print(\"Total Failed:\", len(fail))    \n",
    "fail = np.array(fail)\n",
    "idxs = np.random.choice(fail, 3)\n",
    "for idx in idxs:\n",
    "    s, q, a = test[idx]\n",
    "    s = \" \".join(_.decode('ascii') for _ in s)\n",
    "    q = \" \".join(_.decode('ascii') for _ in q)\n",
    "    print(\"-->\", s, q, a)"
   ]
  }
 ],
 "metadata": {
  "kernelspec": {
   "display_name": "Python 2",
   "language": "python",
   "name": "python2"
  },
  "language_info": {
   "codemirror_mode": {
    "name": "ipython",
    "version": 2
   },
   "file_extension": ".py",
   "mimetype": "text/x-python",
   "name": "python",
   "nbconvert_exporter": "python",
   "pygments_lexer": "ipython2",
   "version": "2.7.12"
  }
 },
 "nbformat": 4,
 "nbformat_minor": 2
}
